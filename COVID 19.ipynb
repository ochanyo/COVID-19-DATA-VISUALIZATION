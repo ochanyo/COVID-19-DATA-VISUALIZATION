{
 "cells": [
  {
   "cell_type": "markdown",
   "metadata": {},
   "source": [
    "COVID 19 DATA VISUALISATION"
   ]
  },
  {
   "cell_type": "markdown",
   "metadata": {},
   "source": [
    "Within months, COVID-19 went from an epidemic to a pandemic. We will visualize data from the early months of the coronavirus outbreak to see how this virus grew to be a global pandemic. \n",
    "\n",
    "Coronavirus is a family of viruses that are named after their spiky crown. The novel coronavirus, also known as SARS-CoV-2, is a contagious respiratory virus that first reported in Wuhan, China. On 2/11/2020, the World Health Organization designated the name COVID-19 for the disease caused by the novel coronavirus. This notebook aims at exploring COVID-19 through data analysis and projections using a few sample countries.\n",
    "The data used here is from John Hopkins University."
   ]
  },
  {
   "cell_type": "code",
   "execution_count": null,
   "metadata": {},
   "outputs": [],
   "source": [
    "#set up:Importing packages to be used to analyse data\n",
    "import pandas as pd\n",
    "pd.plotting.register_matplotlib_converters()\n",
    "import matplotlib.pyplot as plt\n",
    "%matplotlib inline\n",
    "import seaborn as sns\n",
    "import numpy as np"
   ]
  },
  {
   "cell_type": "code",
   "execution_count": null,
   "metadata": {},
   "outputs": [],
   "source": [
    "JohnHopkins=pd.read_csv(\"JohnHopkins.csv\")"
   ]
  },
  {
   "cell_type": "code",
   "execution_count": null,
   "metadata": {},
   "outputs": [],
   "source": [
    "JohnHopkins"
   ]
  },
  {
   "cell_type": "markdown",
   "metadata": {},
   "source": [
    "Quick Examination of the data"
   ]
  },
  {
   "cell_type": "code",
   "execution_count": null,
   "metadata": {},
   "outputs": [],
   "source": [
    "JohnHopkins.head(100)"
   ]
  },
  {
   "cell_type": "code",
   "execution_count": null,
   "metadata": {},
   "outputs": [],
   "source": [
    "JohnHopkins.dtypes"
   ]
  },
  {
   "cell_type": "code",
   "execution_count": null,
   "metadata": {},
   "outputs": [],
   "source": [
    "JohnHopkins.tail(100)"
   ]
  },
  {
   "cell_type": "code",
   "execution_count": null,
   "metadata": {},
   "outputs": [],
   "source": [
    "JohnHopkins.info()"
   ]
  },
  {
   "cell_type": "markdown",
   "metadata": {},
   "source": [
    "CREATING NEW DATA FRAMES FOR PLOTTING GRAPHS\n",
    "Here the data was cleaned  up to remove the Longitude,Latitude and State data which was not required or necessary to plot the graphs for each country.\n",
    "The new data frame had country,date,confrimed cases,rocveries and deaths."
   ]
  },
  {
   "cell_type": "code",
   "execution_count": null,
   "metadata": {},
   "outputs": [],
   "source": [
    "country_data=JohnHopkins[[\"Country\",\"Date\",\"Confirmed\",\"Recovered\",\"Deaths\"]]"
   ]
  },
  {
   "cell_type": "code",
   "execution_count": null,
   "metadata": {},
   "outputs": [],
   "source": [
    "country_data"
   ]
  },
  {
   "cell_type": "markdown",
   "metadata": {},
   "source": [
    "INDIVIDUAL COUNTRY DATA"
   ]
  },
  {
   "cell_type": "code",
   "execution_count": null,
   "metadata": {},
   "outputs": [],
   "source": [
    "#Obtaining Kenya Country Data from the newly created data frame.\n",
    "select_Kenya=country_data[country_data['Country'] == 'Kenya']\n",
    "select_Kenya"
   ]
  },
  {
   "cell_type": "code",
   "execution_count": null,
   "metadata": {},
   "outputs": [],
   "source": [
    "#defining size of the figure\n",
    "plt.figure(figsize=(16,6))\n",
    "#adding a title to the plot\n",
    "plt.title (\"Daily COVID-19 Statistics in Kenya\")\n",
    "#plotting the data to show how cases evolved over time\n",
    "sns.lineplot(data=select_Kenya)"
   ]
  },
  {
   "cell_type": "code",
   "execution_count": null,
   "metadata": {},
   "outputs": [],
   "source": [
    "#Obtaining Ghana Country Data from the newly created data frame\n",
    "select_Ghana=country_data[country_data['Country'] == 'Ghana']\n",
    "select_Ghana                      "
   ]
  },
  {
   "cell_type": "code",
   "execution_count": null,
   "metadata": {},
   "outputs": [],
   "source": [
    "#defining size of the figure\n",
    "plt.figure(figsize=(14,6))\n",
    "#adding a title to the plot\n",
    "plt.title (\"Daily COVID-19 Statistics in Ghana\")\n",
    "#plotting the data to show how cases evolved over time\n",
    "sns.lineplot(data=select_Ghana)"
   ]
  },
  {
   "cell_type": "code",
   "execution_count": null,
   "metadata": {},
   "outputs": [],
   "source": [
    "#Obtaining Egypt Country Data from the newly created data frame.\n",
    "select_Egypt=country_data[country_data['Country'] == 'Egypt']\n",
    "select_Egypt"
   ]
  },
  {
   "cell_type": "code",
   "execution_count": null,
   "metadata": {},
   "outputs": [],
   "source": [
    "#defining size of the figure\n",
    "plt.figure(figsize=(14,6))\n",
    "#adding title to the plot\n",
    "plt.title (\"Daily COVID-19 Statistics in Egypt\")\n",
    "#plotting the data to show how cases evolved over time\n",
    "sns.lineplot(data=select_Egypt)"
   ]
  },
  {
   "cell_type": "code",
   "execution_count": null,
   "metadata": {},
   "outputs": [],
   "source": [
    "#Obtaining Togo Country Data from the newly created data frame.\n",
    "select_Togo=country_data[country_data['Country'] == 'Togo']\n",
    "select_Togo"
   ]
  },
  {
   "cell_type": "code",
   "execution_count": null,
   "metadata": {},
   "outputs": [],
   "source": [
    "#defining size of the figure\n",
    "plt.figure(figsize=(14,6))\n",
    "#adding title to the plot\n",
    "plt.title (\"Daily COVID-19 Statistics in Togo\")\n",
    "#plotting the data to show how cases evolved over time\n",
    "sns.lineplot(data=select_Togo)"
   ]
  },
  {
   "cell_type": "code",
   "execution_count": null,
   "metadata": {},
   "outputs": [],
   "source": [
    "#Obtaining Uganda Country Data from the newly created data frame.\n",
    "select_Uganda=country_data[country_data['Country'] == 'Uganda']\n",
    "select_Uganda"
   ]
  },
  {
   "cell_type": "code",
   "execution_count": null,
   "metadata": {},
   "outputs": [],
   "source": [
    "#defining size of the figure\n",
    "plt.figure(figsize=(14,6))\n",
    "#adding title to the plot\n",
    "plt.title (\"Daily COVID-19 Statistics in Uganda\")\n",
    "#plotting the data to show how cases evolved over time\n",
    "sns.lineplot(data=select_Uganda)"
   ]
  },
  {
   "cell_type": "code",
   "execution_count": null,
   "metadata": {},
   "outputs": [],
   "source": [
    "#Obtaining Rwanda Country Data from the newly created data frame.\n",
    "select_Rwanda=country_data[country_data['Country'] == 'Rwanda']\n",
    "select_Rwanda"
   ]
  },
  {
   "cell_type": "code",
   "execution_count": null,
   "metadata": {},
   "outputs": [],
   "source": [
    "#defining size of the figure\n",
    "plt.figure(figsize=(14,6))\n",
    "#adding title to the plot\n",
    "plt.title (\"Daily COVID-19 Statistics in Rwanda\")\n",
    "#plotting the data to show how cases evolved over time\n",
    "sns.lineplot(data=select_Rwanda)"
   ]
  },
  {
   "cell_type": "code",
   "execution_count": null,
   "metadata": {},
   "outputs": [],
   "source": [
    "#Obtaining Madagascar Country Data from the newly created data frame.\n",
    "select_Madagascar=country_data[country_data['Country'] == 'Madagascar']\n",
    "select_Madagascar"
   ]
  },
  {
   "cell_type": "code",
   "execution_count": null,
   "metadata": {},
   "outputs": [],
   "source": [
    "#defining size of the figure\n",
    "plt.figure(figsize=(14,6))\n",
    "#adding title to the plot\n",
    "plt.title (\"Daily COVID-19 Statistics in Madagascar\")\n",
    "#plotting the data to show how cases evolved over time\n",
    "sns.lineplot(data=select_Madagascar)"
   ]
  },
  {
   "cell_type": "code",
   "execution_count": null,
   "metadata": {},
   "outputs": [],
   "source": [
    "#Obtaining Nigeria Country Data from the newly created data frame.\n",
    "select_Nigeria=country_data[country_data['Country'] == 'Nigeria']\n",
    "select_Nigeria"
   ]
  },
  {
   "cell_type": "code",
   "execution_count": null,
   "metadata": {},
   "outputs": [],
   "source": [
    "#defining size of the figure\n",
    "plt.figure(figsize=(14,6))\n",
    "#adding title to the plot\n",
    "plt.title (\"Daily COVID-19 Statistics in Nigeria\")\n",
    "#plotting the data to show how cases evolved over time\n",
    "sns.lineplot(data=select_Nigeria)"
   ]
  },
  {
   "cell_type": "code",
   "execution_count": null,
   "metadata": {},
   "outputs": [],
   "source": [
    "#Obtaining South Africa Country Data from the newly created data frame.\n",
    "select_SouthAfrica=country_data[country_data['Country'] == 'South Africa']\n",
    "select_SouthAfrica"
   ]
  },
  {
   "cell_type": "code",
   "execution_count": null,
   "metadata": {},
   "outputs": [],
   "source": [
    "#defining size of the figure\n",
    "plt.figure(figsize=(14,6))\n",
    "#adding title to the plot\n",
    "plt.title (\"Daily COVID-19 Statistics in South Africa\")\n",
    "#plotting the data to show how cases evolved over time\n",
    "sns.lineplot(data=select_SouthAfrica)"
   ]
  },
  {
   "cell_type": "code",
   "execution_count": null,
   "metadata": {},
   "outputs": [],
   "source": [
    "#Obtaining Tanzania Country Data from the newly created data frame.\n",
    "select_Tanzania=country_data[country_data['Country'] == 'Tanzania']\n",
    "select_Tanzania"
   ]
  },
  {
   "cell_type": "code",
   "execution_count": null,
   "metadata": {},
   "outputs": [],
   "source": [
    "#defining size of the figure\n",
    "plt.figure(figsize=(14,6))\n",
    "#adding title to the plot\n",
    "plt.title (\"Daily COVID-19 Statistics in Tanzania\")\n",
    "#plotting the data to show how cases evolved over time\n",
    "sns.lineplot(data=select_Tanzania)"
   ]
  },
  {
   "cell_type": "code",
   "execution_count": null,
   "metadata": {},
   "outputs": [],
   "source": [
    "#Obtaining Burundi Country Data from the newly created data frame.\n",
    "select_Burundi=country_data[country_data['Country'] == 'Burundi']\n",
    "select_Burundi"
   ]
  },
  {
   "cell_type": "code",
   "execution_count": null,
   "metadata": {},
   "outputs": [],
   "source": [
    "#defining size of the figure\n",
    "plt.figure(figsize=(14,6))\n",
    "#adding title to the plot\n",
    "plt.title (\"Daily COVID-19 Statistics in Burundi\")\n",
    "#plotting the data to show how cases evolved over time\n",
    "sns.lineplot(data=select_Burundi)"
   ]
  },
  {
   "cell_type": "code",
   "execution_count": null,
   "metadata": {},
   "outputs": [],
   "source": [
    "#Obtaining Namibia Country Data from the newly created data frame.\n",
    "select_Namibia=country_data[country_data['Country'] == 'Namibia']\n",
    "select_Namibia"
   ]
  },
  {
   "cell_type": "code",
   "execution_count": null,
   "metadata": {},
   "outputs": [],
   "source": [
    "#defining size of the figure\n",
    "plt.figure(figsize=(14,6))\n",
    "#adding title to the plot\n",
    "plt.title (\"Daily COVID-19 Statistics in Namibia\")\n",
    "#plotting the data to show how cases evolved over time\n",
    "sns.lineplot(data=select_Namibia)"
   ]
  },
  {
   "cell_type": "code",
   "execution_count": null,
   "metadata": {},
   "outputs": [],
   "source": [
    "#Obtaining China Country Data from the newly created data frame.\n",
    "select_China=country_data[country_data['Country'] == 'China']\n",
    "select_China"
   ]
  },
  {
   "cell_type": "code",
   "execution_count": null,
   "metadata": {},
   "outputs": [],
   "source": [
    "#defining size of the figure\n",
    "plt.figure(figsize=(14,6))\n",
    "#adding title to the plot\n",
    "plt.title (\"Daily COVID-19 Statistics in China\")\n",
    "#plotting the data to show how cases evolved over time\n",
    "sns.lineplot(data=select_China)"
   ]
  },
  {
   "cell_type": "code",
   "execution_count": null,
   "metadata": {},
   "outputs": [],
   "source": [
    "#Obtaining India Country Data from the newly created data frame.\n",
    "select_India=country_data[country_data['Country'] == 'India']\n",
    "select_India"
   ]
  },
  {
   "cell_type": "code",
   "execution_count": null,
   "metadata": {},
   "outputs": [],
   "source": [
    "#defining size of the figure\n",
    "plt.figure(figsize=(14,6))\n",
    "#adding title to the plot\n",
    "plt.title (\"Daily COVID-19 Statistics in India\")\n",
    "#plotting the data to show how cases evolved over time\n",
    "sns.lineplot(data=select_India)"
   ]
  },
  {
   "cell_type": "code",
   "execution_count": null,
   "metadata": {},
   "outputs": [],
   "source": [
    "#Obtaining Japan Country Data from the newly created data frame.\n",
    "select_Japan=country_data[country_data['Country'] == 'Japan']\n",
    "select_Japan"
   ]
  },
  {
   "cell_type": "code",
   "execution_count": null,
   "metadata": {},
   "outputs": [],
   "source": [
    "#defining size of the figure\n",
    "plt.figure(figsize=(14,6))\n",
    "#adding title to the plot\n",
    "plt.title (\"Daily COVID-19 Statistics in Japan\")\n",
    "#plotting the data to show how cases evolved over time\n",
    "sns.lineplot(data=select_Japan)"
   ]
  },
  {
   "cell_type": "code",
   "execution_count": null,
   "metadata": {},
   "outputs": [],
   "source": [
    "#Obtaining Turkey Country Data from the newly created data frame.\n",
    "select_Turkey=country_data[country_data['Country'] == 'Turkey']\n",
    "select_Turkey"
   ]
  },
  {
   "cell_type": "code",
   "execution_count": null,
   "metadata": {},
   "outputs": [],
   "source": [
    "#defining size of the figure\n",
    "plt.figure(figsize=(14,6))\n",
    "#adding title to the plot\n",
    "plt.title (\"Daily COVID-19 Statistics in Turkey\")\n",
    "#plotting the data to show how cases evolved over time\n",
    "sns.lineplot(data=select_Turkey)"
   ]
  },
  {
   "cell_type": "code",
   "execution_count": null,
   "metadata": {},
   "outputs": [],
   "source": [
    "#Obtaining Saudi Arabia Country Data from the newly created data frame.\n",
    "select_SaudiArabia=country_data[country_data['Country'] == 'Saudi Arabia']\n",
    "select_SaudiArabia"
   ]
  },
  {
   "cell_type": "code",
   "execution_count": null,
   "metadata": {},
   "outputs": [],
   "source": [
    "#defining size of the figure\n",
    "plt.figure(figsize=(14,6))\n",
    "#adding title to the plot\n",
    "plt.title (\"Daily COVID-19 Statistics in Saudi Arabia\")\n",
    "#plotting the data to show how cases evolved over time\n",
    "sns.lineplot(data=select_SaudiArabia)"
   ]
  },
  {
   "cell_type": "code",
   "execution_count": null,
   "metadata": {},
   "outputs": [],
   "source": [
    "#Obtaining Spain Country Data from the newly created data frame.\n",
    "select_Spain=country_data[country_data['Country'] == 'Spain']\n",
    "select_Spain"
   ]
  },
  {
   "cell_type": "code",
   "execution_count": null,
   "metadata": {},
   "outputs": [],
   "source": [
    "#defining size of the figure\n",
    "plt.figure(figsize=(14,6))\n",
    "#adding title to the plot\n",
    "plt.title (\"Daily COVID-19 Statistics in Spain\")\n",
    "#plotting the data to show how cases evolved over time\n",
    "sns.lineplot(data=select_Spain)"
   ]
  },
  {
   "cell_type": "code",
   "execution_count": null,
   "metadata": {},
   "outputs": [],
   "source": [
    "#Obtaining Italy Country Data from the newly created data frame.\n",
    "select_Italy=country_data[country_data['Country'] == 'Italy']\n",
    "select_Italy"
   ]
  },
  {
   "cell_type": "code",
   "execution_count": null,
   "metadata": {},
   "outputs": [],
   "source": [
    "#defining size of the figure\n",
    "plt.figure(figsize=(14,6))\n",
    "#adding title to the plot\n",
    "plt.title (\"Daily COVID-19 Statistics in Italy\")\n",
    "#plotting the data to show how cases evolved over time\n",
    "sns.lineplot(data=select_Italy)"
   ]
  },
  {
   "cell_type": "code",
   "execution_count": null,
   "metadata": {},
   "outputs": [],
   "source": [
    "select_UnitedKingdom=country_data[country_data['Country'] == 'United Kingdom']\n",
    "select_UnitedKingdom"
   ]
  },
  {
   "cell_type": "code",
   "execution_count": null,
   "metadata": {},
   "outputs": [],
   "source": [
    "#defining size of the figure\n",
    "plt.figure(figsize=(14,6))\n",
    "#adding title to the plot\n",
    "plt.title (\"Daily COVID-19 Statistics in United Kingdom\")\n",
    "#plotting the data to show how cases evolved over time\n",
    "sns.lineplot(data=select_UnitedKingdom)"
   ]
  },
  {
   "cell_type": "code",
   "execution_count": null,
   "metadata": {},
   "outputs": [],
   "source": [
    "#Obtaining Germany Country Data from the newly created data frame.\n",
    "select_Germany=country_data[country_data['Country'] == 'Germany']\n",
    "select_Germany"
   ]
  },
  {
   "cell_type": "code",
   "execution_count": null,
   "metadata": {},
   "outputs": [],
   "source": [
    "#defining size of the figure\n",
    "plt.figure(figsize=(14,6))\n",
    "#adding title to the plot\n",
    "plt.title (\"Daily COVID-19 Statistics in Germany\")\n",
    "#plotting the data to show how cases evolved over time\n",
    "sns.lineplot(data=select_Germany)"
   ]
  },
  {
   "cell_type": "code",
   "execution_count": null,
   "metadata": {},
   "outputs": [],
   "source": [
    "#Obtaining Switzerland Country Data from the newly created data frame.\n",
    "select_Switzerland=country_data[country_data['Country'] == 'Switzerland']\n",
    "select_Switzerland"
   ]
  },
  {
   "cell_type": "code",
   "execution_count": null,
   "metadata": {},
   "outputs": [],
   "source": [
    "#defining size of the figure\n",
    "plt.figure(figsize=(14,6))\n",
    "#adding title to the plot\n",
    "plt.title (\"Daily COVID-19 Statistics in Switzerland\")\n",
    "#plotting the data to show how cases evolved over time\n",
    "sns.lineplot(data=select_Switzerland)"
   ]
  },
  {
   "cell_type": "code",
   "execution_count": null,
   "metadata": {},
   "outputs": [],
   "source": [
    "#Obtaining Brazil Country Data from the newly created data frame.\n",
    "select_Brazil=country_data[country_data['Country'] == 'Brazil']\n",
    "select_Brazil"
   ]
  },
  {
   "cell_type": "code",
   "execution_count": null,
   "metadata": {},
   "outputs": [],
   "source": [
    "#defining size of the figure\n",
    "plt.figure(figsize=(14,6))\n",
    "#adding title to the plot\n",
    "plt.title (\"Daily COVID-19 Statistics in Brazil\")\n",
    "#plotting the data to show how cases evolved over time\n",
    "sns.lineplot(data=select_Brazil)"
   ]
  },
  {
   "cell_type": "code",
   "execution_count": null,
   "metadata": {},
   "outputs": [],
   "source": [
    "#Obtaining Venezuela Country Data from the newly created data frame.\n",
    "select_Venezuela=country_data[country_data['Country'] == 'Venezuela']\n",
    "select_Venezuela"
   ]
  },
  {
   "cell_type": "code",
   "execution_count": null,
   "metadata": {},
   "outputs": [],
   "source": [
    "#defining size of the figure\n",
    "plt.figure(figsize=(14,6))\n",
    "#adding title to the plot\n",
    "plt.title (\"Daily COVID-19 Statistics in Venezuela\")\n",
    "#plotting the data to show how cases evolved over time\n",
    "sns.lineplot(data=select_Venezuela)"
   ]
  },
  {
   "cell_type": "code",
   "execution_count": null,
   "metadata": {},
   "outputs": [],
   "source": [
    "#Obtaining Canada Country Data from the newly created data frame.\n",
    "select_Canada=country_data[country_data['Country'] == 'Canada']\n",
    "select_Canada"
   ]
  },
  {
   "cell_type": "code",
   "execution_count": null,
   "metadata": {},
   "outputs": [],
   "source": [
    "#defining size of the figure\n",
    "plt.figure(figsize=(14,6))\n",
    "#adding title to the plot\n",
    "plt.title (\"Daily COVID-19 Statistics in Canada\")\n",
    "#plotting the data to show how cases evolved over time\n",
    "sns.lineplot(data=select_Canada)"
   ]
  },
  {
   "cell_type": "code",
   "execution_count": null,
   "metadata": {},
   "outputs": [],
   "source": [
    "#Obtaining Australia Country Data from the newly created data frame.\n",
    "select_Australia=country_data[country_data['Country'] == 'Australia']\n",
    "select_Australia"
   ]
  },
  {
   "cell_type": "code",
   "execution_count": null,
   "metadata": {},
   "outputs": [],
   "source": [
    "#defining size of the figure\n",
    "plt.figure(figsize=(14,6))\n",
    "#adding title to the plot\n",
    "plt.title (\"Daily COVID-19 Statistics in Australia\")\n",
    "#plotting the data to show how cases evolved over time\n",
    "sns.lineplot(data=select_Australia)"
   ]
  },
  {
   "cell_type": "code",
   "execution_count": null,
   "metadata": {},
   "outputs": [],
   "source": [
    "#Obtaining US Country Data from the newly created data frame.\n",
    "select_US=country_data[country_data['Country'] == 'US']\n",
    "select_US"
   ]
  },
  {
   "cell_type": "code",
   "execution_count": null,
   "metadata": {},
   "outputs": [],
   "source": [
    "#defining size of the figure\n",
    "plt.figure(figsize=(14,6))\n",
    "#adding title to the plot\n",
    "plt.title (\"Daily COVID-19 Statistics in US\")\n",
    "#plotting the data to show how cases evolved over time\n",
    "sns.lineplot(data=select_US)"
   ]
  },
  {
   "cell_type": "markdown",
   "metadata": {},
   "source": [
    "Pie Chart Visualizations for COVID-19\n",
    "Although pie charts are not necessarily the most informative visualizations, I added them to increase some variety for the visualizations."
   ]
  },
  {
   "cell_type": "markdown",
   "metadata": {},
   "source": [
    "Bar Chart Visualizations for COVID-19\n",
    "This offers us some insights for how different countries/regions compare in terms of covid cases."
   ]
  },
  {
   "cell_type": "code",
   "execution_count": null,
   "metadata": {},
   "outputs": [],
   "source": []
  }
 ],
 "metadata": {
  "kernelspec": {
   "display_name": "Python 3",
   "language": "python",
   "name": "python3"
  },
  "language_info": {
   "codemirror_mode": {
    "name": "ipython",
    "version": 3
   },
   "file_extension": ".py",
   "mimetype": "text/x-python",
   "name": "python",
   "nbconvert_exporter": "python",
   "pygments_lexer": "ipython3",
   "version": "3.9.0"
  }
 },
 "nbformat": 4,
 "nbformat_minor": 4
}
